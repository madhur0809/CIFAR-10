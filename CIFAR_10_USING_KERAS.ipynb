{
  "nbformat": 4,
  "nbformat_minor": 0,
  "metadata": {
    "colab": {
      "name": "CIFAR-10_USING KERAS",
      "version": "0.3.2",
      "provenance": [],
      "include_colab_link": true
    },
    "kernelspec": {
      "name": "python3",
      "display_name": "Python 3"
    },
    "accelerator": "GPU"
  },
  "cells": [
    {
      "cell_type": "markdown",
      "metadata": {
        "id": "view-in-github",
        "colab_type": "text"
      },
      "source": [
        "[View in Colaboratory](https://colab.research.google.com/github/psm1996/CIFAR-10/blob/master/CIFAR_10_USING_KERAS.ipynb)"
      ]
    },
    {
      "metadata": {
        "id": "_sR40DWxFd3I",
        "colab_type": "code",
        "colab": {
          "base_uri": "https://localhost:8080/",
          "height": 2380
        },
        "outputId": "61d59194-33c1-4da9-d661-83f99af31faa"
      },
      "cell_type": "code",
      "source": [
        "!apt-get install -y -qq software-properties-common python-software-properties module-init-tools\n",
        "!add-apt-repository -y ppa:alessandro-strada/ppa 2>&1 > /dev/null\n",
        "!apt-get update -qq 2>&1 > /dev/null\n",
        "!apt-get -y install -qq google-drive-ocamlfuse fuse"
      ],
      "execution_count": 1,
      "outputs": [
        {
          "output_type": "stream",
          "text": [
            "Preconfiguring packages ...\n",
            "Selecting previously unselected package cron.\n",
            "(Reading database ... 18396 files and directories currently installed.)\n",
            "Preparing to unpack .../00-cron_3.0pl1-128ubuntu5_amd64.deb ...\n",
            "Unpacking cron (3.0pl1-128ubuntu5) ...\n",
            "Selecting previously unselected package libapparmor1:amd64.\n",
            "Preparing to unpack .../01-libapparmor1_2.11.0-2ubuntu17.1_amd64.deb ...\n",
            "Unpacking libapparmor1:amd64 (2.11.0-2ubuntu17.1) ...\n",
            "Selecting previously unselected package libdbus-1-3:amd64.\n",
            "Preparing to unpack .../02-libdbus-1-3_1.10.22-1ubuntu1_amd64.deb ...\n",
            "Unpacking libdbus-1-3:amd64 (1.10.22-1ubuntu1) ...\n",
            "Selecting previously unselected package dbus.\n",
            "Preparing to unpack .../03-dbus_1.10.22-1ubuntu1_amd64.deb ...\n",
            "Unpacking dbus (1.10.22-1ubuntu1) ...\n",
            "Preparing to unpack .../04-gnupg_2.1.15-1ubuntu8.1_amd64.deb ...\n",
            "Unpacking gnupg (2.1.15-1ubuntu8.1) over (2.1.15-1ubuntu8) ...\n",
            "Preparing to unpack .../05-gnupg-agent_2.1.15-1ubuntu8.1_amd64.deb ...\n",
            "Unpacking gnupg-agent (2.1.15-1ubuntu8.1) over (2.1.15-1ubuntu8) ...\n",
            "Selecting previously unselected package dirmngr.\n",
            "Preparing to unpack .../06-dirmngr_2.1.15-1ubuntu8.1_amd64.deb ...\n",
            "Unpacking dirmngr (2.1.15-1ubuntu8.1) ...\n",
            "Selecting previously unselected package distro-info-data.\n",
            "Preparing to unpack .../07-distro-info-data_0.36ubuntu0.2_all.deb ...\n",
            "Unpacking distro-info-data (0.36ubuntu0.2) ...\n",
            "Selecting previously unselected package libkmod2:amd64.\n",
            "Preparing to unpack .../08-libkmod2_24-1ubuntu2_amd64.deb ...\n",
            "Unpacking libkmod2:amd64 (24-1ubuntu2) ...\n",
            "Selecting previously unselected package kmod.\n",
            "Preparing to unpack .../09-kmod_24-1ubuntu2_amd64.deb ...\n",
            "Unpacking kmod (24-1ubuntu2) ...\n",
            "Selecting previously unselected package lsb-release.\n",
            "Preparing to unpack .../10-lsb-release_9.20160110ubuntu5_all.deb ...\n",
            "Unpacking lsb-release (9.20160110ubuntu5) ...\n",
            "Selecting previously unselected package libgirepository-1.0-1:amd64.\n",
            "Preparing to unpack .../11-libgirepository-1.0-1_1.54.1-1_amd64.deb ...\n",
            "Unpacking libgirepository-1.0-1:amd64 (1.54.1-1) ...\n",
            "Selecting previously unselected package gir1.2-glib-2.0:amd64.\n",
            "Preparing to unpack .../12-gir1.2-glib-2.0_1.54.1-1_amd64.deb ...\n",
            "Unpacking gir1.2-glib-2.0:amd64 (1.54.1-1) ...\n",
            "Selecting previously unselected package iso-codes.\n",
            "Preparing to unpack .../13-iso-codes_3.75-1_all.deb ...\n",
            "Unpacking iso-codes (3.75-1) ...\n",
            "Selecting previously unselected package libdbus-glib-1-2:amd64.\n",
            "Preparing to unpack .../14-libdbus-glib-1-2_0.108-2_amd64.deb ...\n",
            "Unpacking libdbus-glib-1-2:amd64 (0.108-2) ...\n",
            "Selecting previously unselected package python-apt-common.\n",
            "Preparing to unpack .../15-python-apt-common_1.4.0~beta3build2_all.deb ...\n",
            "Unpacking python-apt-common (1.4.0~beta3build2) ...\n",
            "Selecting previously unselected package python3-apt.\n",
            "Preparing to unpack .../16-python3-apt_1.4.0~beta3build2_amd64.deb ...\n",
            "Unpacking python3-apt (1.4.0~beta3build2) ...\n",
            "Selecting previously unselected package python3-dbus.\n",
            "Preparing to unpack .../17-python3-dbus_1.2.4-1build3_amd64.deb ...\n",
            "Unpacking python3-dbus (1.2.4-1build3) ...\n",
            "Selecting previously unselected package python3-gi.\n",
            "Preparing to unpack .../18-python3-gi_3.24.1-2build1_amd64.deb ...\n",
            "Unpacking python3-gi (3.24.1-2build1) ...\n",
            "Selecting previously unselected package module-init-tools.\n",
            "Preparing to unpack .../19-module-init-tools_24-1ubuntu2_all.deb ...\n",
            "Unpacking module-init-tools (24-1ubuntu2) ...\n",
            "Selecting previously unselected package python-apt.\n",
            "Preparing to unpack .../20-python-apt_1.4.0~beta3build2_amd64.deb ...\n",
            "Unpacking python-apt (1.4.0~beta3build2) ...\n",
            "Selecting previously unselected package python-pycurl.\n",
            "Preparing to unpack .../21-python-pycurl_7.43.0-2build2_amd64.deb ...\n",
            "Unpacking python-pycurl (7.43.0-2build2) ...\n",
            "Selecting previously unselected package python-software-properties.\n",
            "Preparing to unpack .../22-python-software-properties_0.96.24.17_all.deb ...\n",
            "Unpacking python-software-properties (0.96.24.17) ...\n",
            "Selecting previously unselected package python3-software-properties.\n",
            "Preparing to unpack .../23-python3-software-properties_0.96.24.17_all.deb ...\n",
            "Unpacking python3-software-properties (0.96.24.17) ...\n",
            "Selecting previously unselected package software-properties-common.\n",
            "Preparing to unpack .../24-software-properties-common_0.96.24.17_all.deb ...\n",
            "Unpacking software-properties-common (0.96.24.17) ...\n",
            "Selecting previously unselected package unattended-upgrades.\n",
            "Preparing to unpack .../25-unattended-upgrades_0.98ubuntu1.1_all.deb ...\n",
            "Unpacking unattended-upgrades (0.98ubuntu1.1) ...\n",
            "Setting up python-apt-common (1.4.0~beta3build2) ...\n",
            "Setting up python3-apt (1.4.0~beta3build2) ...\n",
            "Setting up iso-codes (3.75-1) ...\n",
            "Setting up distro-info-data (0.36ubuntu0.2) ...\n",
            "Setting up python-pycurl (7.43.0-2build2) ...\n",
            "Setting up lsb-release (9.20160110ubuntu5) ...\n",
            "Setting up libgirepository-1.0-1:amd64 (1.54.1-1) ...\n",
            "Setting up libkmod2:amd64 (24-1ubuntu2) ...\n",
            "Setting up gir1.2-glib-2.0:amd64 (1.54.1-1) ...\n",
            "Processing triggers for libc-bin (2.26-0ubuntu2.1) ...\n"
          ],
          "name": "stdout"
        },
        {
          "output_type": "stream",
          "text": [
            "Setting up libapparmor1:amd64 (2.11.0-2ubuntu17.1) ...\r\n",
            "Setting up unattended-upgrades (0.98ubuntu1.1) ...\n",
            "\n",
            "Creating config file /etc/apt/apt.conf.d/20auto-upgrades with new version\n",
            "\n",
            "Creating config file /etc/apt/apt.conf.d/50unattended-upgrades with new version\n",
            "invoke-rc.d: could not determine current runlevel\n",
            "invoke-rc.d: policy-rc.d denied execution of start.\n",
            "Setting up gnupg-agent (2.1.15-1ubuntu8.1) ...\n",
            "Setting up dirmngr (2.1.15-1ubuntu8.1) ...\n",
            "Setting up cron (3.0pl1-128ubuntu5) ...\n",
            "Adding group `crontab' (GID 102) ...\n",
            "Done.\n",
            "update-rc.d: warning: start and stop actions are no longer supported; falling back to defaults\n",
            "update-rc.d: warning: stop runlevel arguments (1) do not match cron Default-Stop values (none)\n",
            "invoke-rc.d: could not determine current runlevel\n",
            "invoke-rc.d: policy-rc.d denied execution of start.\n",
            "Setting up libdbus-1-3:amd64 (1.10.22-1ubuntu1) ...\n",
            "Setting up kmod (24-1ubuntu2) ...\n",
            "Setting up libdbus-glib-1-2:amd64 (0.108-2) ...\n",
            "Setting up gnupg (2.1.15-1ubuntu8.1) ...\n",
            "Setting up python3-gi (3.24.1-2build1) ...\n",
            "Setting up module-init-tools (24-1ubuntu2) ...\n",
            "Setting up python3-software-properties (0.96.24.17) ...\n",
            "Setting up dbus (1.10.22-1ubuntu1) ...\n",
            "Setting up python-apt (1.4.0~beta3build2) ...\n",
            "Setting up python3-dbus (1.2.4-1build3) ...\n",
            "Setting up python-software-properties (0.96.24.17) ...\n",
            "Setting up software-properties-common (0.96.24.17) ...\n",
            "Processing triggers for libc-bin (2.26-0ubuntu2.1) ...\n",
            "Processing triggers for dbus (1.10.22-1ubuntu1) ...\n",
            "gpg: keybox '/tmp/tmp04_8df3z/pubring.gpg' created\n",
            "gpg: /tmp/tmp04_8df3z/trustdb.gpg: trustdb created\n",
            "gpg: key AD5F235DF639B041: public key \"Launchpad PPA for Alessandro Strada\" imported\n",
            "gpg: Total number processed: 1\n",
            "gpg:               imported: 1\n",
            "Warning: apt-key output should not be parsed (stdout is not a terminal)\n",
            "Selecting previously unselected package libfuse2:amd64.\n",
            "(Reading database ... 19804 files and directories currently installed.)\n",
            "Preparing to unpack .../libfuse2_2.9.7-1ubuntu1_amd64.deb ...\n",
            "Unpacking libfuse2:amd64 (2.9.7-1ubuntu1) ...\n",
            "Selecting previously unselected package fuse.\n",
            "Preparing to unpack .../fuse_2.9.7-1ubuntu1_amd64.deb ...\n",
            "Unpacking fuse (2.9.7-1ubuntu1) ...\n",
            "Selecting previously unselected package google-drive-ocamlfuse.\n",
            "Preparing to unpack .../google-drive-ocamlfuse_0.6.21-0ubuntu2_amd64.deb ...\n",
            "Unpacking google-drive-ocamlfuse (0.6.21-0ubuntu2) ...\n",
            "Setting up libfuse2:amd64 (2.9.7-1ubuntu1) ...\n",
            "Processing triggers for libc-bin (2.26-0ubuntu2.1) ...\n",
            "Setting up fuse (2.9.7-1ubuntu1) ...\n",
            "Setting up google-drive-ocamlfuse (0.6.21-0ubuntu2) ...\n"
          ],
          "name": "stdout"
        }
      ]
    },
    {
      "metadata": {
        "id": "iLBDo94QF2AO",
        "colab_type": "code",
        "colab": {
          "base_uri": "https://localhost:8080/",
          "height": 105
        },
        "outputId": "97c61a5d-aa7e-4a13-aa8a-daeb1a02a349"
      },
      "cell_type": "code",
      "source": [
        "4/AAD-WONBcQdgN4AQNVqhRZxwqLPP-iAf0dPgnAQSIwwA0DD5EcMzpmUfrom google.colab import auth\n",
        "auth.authenticate_user()\n",
        "from oauth2client.client import GoogleCredentials\n",
        "creds = GoogleCredentials.get_application_default()\n",
        "import getpass\n",
        "!google-drive-ocamlfuse -headless -id={creds.client_id} -secret={creds.client_secret} < /dev/null 2>&1 | grep URL\n",
        "vcode = getpass.getpass()\n",
        "!echo {vcode} | google-drive-ocamlfuse -headless -id={creds.client_id} -secret={creds.client_secret}"
      ],
      "execution_count": 2,
      "outputs": [
        {
          "output_type": "stream",
          "text": [
            "Please, open the following URL in a web browser: https://accounts.google.com/o/oauth2/auth?client_id=32555940559.apps.googleusercontent.com&redirect_uri=urn%3Aietf%3Awg%3Aoauth%3A2.0%3Aoob&scope=https%3A%2F%2Fwww.googleapis.com%2Fauth%2Fdrive&response_type=code&access_type=offline&approval_prompt=force\r\n",
            "··········\n",
            "Please, open the following URL in a web browser: https://accounts.google.com/o/oauth2/auth?client_id=32555940559.apps.googleusercontent.com&redirect_uri=urn%3Aietf%3Awg%3Aoauth%3A2.0%3Aoob&scope=https%3A%2F%2Fwww.googleapis.com%2Fauth%2Fdrive&response_type=code&access_type=offline&approval_prompt=force\n",
            "Please enter the verification code: Access token retrieved correctly.\n"
          ],
          "name": "stdout"
        }
      ]
    },
    {
      "metadata": {
        "id": "xsi3Dqg-GJMM",
        "colab_type": "code",
        "colab": {
          "base_uri": "https://localhost:8080/",
          "height": 51
        },
        "outputId": "cf6ffb44-a5bd-4210-829e-e70d8e1e2f34"
      },
      "cell_type": "code",
      "source": [
        "!mkdir -p drive\n",
        "!google-drive-ocamlfuse drive\n"
      ],
      "execution_count": 21,
      "outputs": [
        {
          "output_type": "stream",
          "text": [
            "fuse: mountpoint is not empty\r\n",
            "fuse: if you are sure this is safe, use the 'nonempty' mount option\r\n"
          ],
          "name": "stdout"
        }
      ]
    },
    {
      "metadata": {
        "id": "wACm1l0dWjIZ",
        "colab_type": "code",
        "colab": {
          "base_uri": "https://localhost:8080/",
          "height": 255
        },
        "outputId": "9e2f73e3-99a6-49c3-88ce-bac6077b0aa0"
      },
      "cell_type": "code",
      "source": [
        "!pip install keras_sequential_ascii"
      ],
      "execution_count": 22,
      "outputs": [
        {
          "output_type": "stream",
          "text": [
            "Collecting keras_sequential_ascii\n",
            "  Downloading https://files.pythonhosted.org/packages/2d/a4/806e3ed5d7ac7463e2fae77e09ccccc88c78266b248fb637e4efa4f65ec0/keras_sequential_ascii-0.1.1.tar.gz\n",
            "Requirement already satisfied: keras in /usr/local/lib/python3.6/dist-packages (from keras_sequential_ascii) (2.1.6)\n",
            "Requirement already satisfied: h5py in /usr/local/lib/python3.6/dist-packages (from keras->keras_sequential_ascii) (2.8.0)\n",
            "Requirement already satisfied: pyyaml in /usr/local/lib/python3.6/dist-packages (from keras->keras_sequential_ascii) (3.13)\n",
            "Requirement already satisfied: scipy>=0.14 in /usr/local/lib/python3.6/dist-packages (from keras->keras_sequential_ascii) (0.19.1)\n",
            "Requirement already satisfied: six>=1.9.0 in /usr/local/lib/python3.6/dist-packages (from keras->keras_sequential_ascii) (1.11.0)\n",
            "Requirement already satisfied: numpy>=1.9.1 in /usr/local/lib/python3.6/dist-packages (from keras->keras_sequential_ascii) (1.14.5)\n",
            "Building wheels for collected packages: keras-sequential-ascii\n",
            "  Running setup.py bdist_wheel for keras-sequential-ascii ... \u001b[?25l-\b \bdone\n",
            "\u001b[?25h  Stored in directory: /content/.cache/pip/wheels/f5/8d/81/912666dff82a923ce423a7e797cd75f54271c7031512cdb282\n",
            "Successfully built keras-sequential-ascii\n",
            "Installing collected packages: keras-sequential-ascii\n",
            "Successfully installed keras-sequential-ascii-0.1.1\n"
          ],
          "name": "stdout"
        }
      ]
    },
    {
      "metadata": {
        "id": "UuAiEYIVFu7a",
        "colab_type": "code",
        "colab": {}
      },
      "cell_type": "code",
      "source": [
        "import time\n",
        "import matplotlib.pyplot as plt\n",
        "import numpy as np\n",
        "from keras.models import Sequential\n",
        "from keras.layers import Dense\n",
        "from keras.layers import Dropout\n",
        "from keras.layers import Flatten\n",
        "from keras.constraints import maxnorm\n",
        "from keras.optimizers import SGD\n",
        "from keras.layers import Activation\n",
        "from keras.layers.convolutional import Conv2D\n",
        "from keras.layers.convolutional import MaxPooling2D\n",
        "from keras.layers.normalization import BatchNormalization\n",
        "from keras.utils import np_utils\n",
        "from keras_sequential_ascii import sequential_model_to_ascii_printout\n",
        "from keras import backend as K\n",
        "if K.backend()=='tensorflow':\n",
        "    K.set_image_dim_ordering(\"th\")\n",
        " \n",
        "# Import Tensorflow with multiprocessing\n",
        "import tensorflow as tf\n",
        "import multiprocessing as mp\n",
        " \n",
        "# Loading the CIFAR-10 datasets\n",
        "from keras.datasets import cifar10"
      ],
      "execution_count": 0,
      "outputs": []
    },
    {
      "metadata": {
        "id": "Ue1b4GwiF30Z",
        "colab_type": "code",
        "colab": {}
      },
      "cell_type": "code",
      "source": [
        "from keras.datasets import cifar10\n",
        "(x_train, y_train), (x_test, y_test) = cifar10.load_data() \n",
        "# x_train - training data(images), y_train - labels(digits)"
      ],
      "execution_count": 0,
      "outputs": []
    },
    {
      "metadata": {
        "id": "b44UWyrVYUgr",
        "colab_type": "code",
        "colab": {}
      },
      "cell_type": "code",
      "source": [
        "batch_size = 32 \n",
        "# 32 examples in a mini-batch, smaller batch size means more updates in one epoch\n",
        " \n",
        "num_classes = 10 #\n",
        "epochs = 100 # repeat 100 times"
      ],
      "execution_count": 0,
      "outputs": []
    },
    {
      "metadata": {
        "id": "bj8m6j-iGv4V",
        "colab_type": "code",
        "colab": {
          "base_uri": "https://localhost:8080/",
          "height": 209
        },
        "outputId": "f929b6c7-f36d-43d6-dd8d-4681544cc18b"
      },
      "cell_type": "code",
      "source": [
        "fig = plt.figure(figsize=(8,3))\n",
        "for i in range(num_classes):\n",
        "    ax = fig.add_subplot(2, 5, 1 + i, xticks=[], yticks=[])\n",
        "    idx = np.where(y_train[:]==i)[0]\n",
        "    features_idx = x_train[idx,::]\n",
        "    img_num = np.random.randint(features_idx.shape[0])\n",
        "    im = np.transpose(features_idx[img_num,::],(1,2,0))\n",
        "    ax.set_title(class_names[i])\n",
        "    plt.imshow(im)\n",
        "plt.show()"
      ],
      "execution_count": 34,
      "outputs": [
        {
          "output_type": "display_data",
          "data": {
            "image/png": "[encoded data removed]",
            "text/plain": [
              "<matplotlib.figure.Figure at 0x7f734bd30b00>"
            ]
          },
          "metadata": {
            "tags": []
          }
        }
      ]
    },
    {
      "metadata": {
        "id": "oroBwqMJGzbu",
        "colab_type": "code",
        "colab": {}
      },
      "cell_type": "code",
      "source": [
        "y_train = np_utils.to_categorical(y_train, num_classes)\n",
        "y_test = np_utils.to_categorical(y_test, num_classes)\n",
        "x_train = x_train.astype('float32')\n",
        "x_test = x_test.astype('float32')\n",
        "x_train  /= 255\n",
        "x_test /= 255"
      ],
      "execution_count": 0,
      "outputs": []
    },
    {
      "metadata": {
        "id": "HJpa9Q-yHFWR",
        "colab_type": "code",
        "colab": {
          "base_uri": "https://localhost:8080/",
          "height": 4185
        },
        "outputId": "5396147b-2885-4a37-b3bc-31d15a0d1198"
      },
      "cell_type": "code",
      "source": [
        "\n",
        "\n",
        "def base_model():\n",
        " \n",
        "    model = Sequential()\n",
        "    model.add(Conv2D(32, (3, 3), padding='same', input_shape=x_train.shape[1:]))\n",
        "    model.add(Activation('relu'))\n",
        "    model.add(Conv2D(32,(3, 3)))\n",
        "    model.add(Activation('relu'))\n",
        "    model.add(MaxPooling2D(pool_size=(2, 2)))\n",
        "    model.add(Dropout(0.25))\n",
        " \n",
        "    model.add(Conv2D(64, (3, 3), padding='same'))\n",
        "    model.add(Activation('relu'))\n",
        "    model.add(Conv2D(64, (3,3)))\n",
        "    model.add(Activation('relu'))\n",
        "    model.add(MaxPooling2D(pool_size=(2, 2)))\n",
        "    model.add(Dropout(0.25))\n",
        " \n",
        "    model.add(Flatten())\n",
        "    model.add(Dense(512))\n",
        "    model.add(Activation('relu'))\n",
        "    model.add(Dropout(0.5))\n",
        "    model.add(Dense(num_classes))\n",
        "    model.add(Activation('softmax'))\n",
        " \n",
        "    opt = keras.optimizers.rmsprop(lr=0.0001, decay=1e-6)\n",
        " \n",
        "# Train model\n",
        " \n",
        "    model.compile(loss='categorical_crossentropy', optimizer=opt, metrics=['accuracy'])\n",
        "    return model\n",
        "cnn_n = base_model()\n",
        "cnn_n.summary()\n",
        " \n",
        "# Fit model\n",
        " \n",
        "cnn = cnn_n.fit(x_train, y_train, batch_size=batch_size, epochs=epochs, validation_data=(x_test,y_test),shuffle=True)"
      ],
      "execution_count": 38,
      "outputs": [
        {
          "output_type": "stream",
          "text": [
            "_________________________________________________________________\n",
            "Layer (type)                 Output Shape              Param #   \n",
            "=================================================================\n",
            "conv2d_21 (Conv2D)           (None, 32, 32, 32)        896       \n",
            "_________________________________________________________________\n",
            "activation_29 (Activation)   (None, 32, 32, 32)        0         \n",
            "_________________________________________________________________\n",
            "conv2d_22 (Conv2D)           (None, 32, 30, 30)        9248      \n",
            "_________________________________________________________________\n",
            "activation_30 (Activation)   (None, 32, 30, 30)        0         \n",
            "_________________________________________________________________\n",
            "max_pooling2d_11 (MaxPooling (None, 32, 15, 15)        0         \n",
            "_________________________________________________________________\n",
            "dropout_17 (Dropout)         (None, 32, 15, 15)        0         \n",
            "_________________________________________________________________\n",
            "conv2d_23 (Conv2D)           (None, 64, 15, 15)        18496     \n",
            "_________________________________________________________________\n",
            "activation_31 (Activation)   (None, 64, 15, 15)        0         \n",
            "_________________________________________________________________\n",
            "conv2d_24 (Conv2D)           (None, 64, 13, 13)        36928     \n",
            "_________________________________________________________________\n",
            "activation_32 (Activation)   (None, 64, 13, 13)        0         \n",
            "_________________________________________________________________\n",
            "max_pooling2d_12 (MaxPooling (None, 64, 6, 6)          0         \n",
            "_________________________________________________________________\n",
            "dropout_18 (Dropout)         (None, 64, 6, 6)          0         \n",
            "_________________________________________________________________\n",
            "flatten_5 (Flatten)          (None, 2304)              0         \n",
            "_________________________________________________________________\n",
            "dense_11 (Dense)             (None, 512)               1180160   \n",
            "_________________________________________________________________\n",
            "activation_33 (Activation)   (None, 512)               0         \n",
            "_________________________________________________________________\n",
            "dropout_19 (Dropout)         (None, 512)               0         \n",
            "_________________________________________________________________\n",
            "dense_12 (Dense)             (None, 10)                5130      \n",
            "_________________________________________________________________\n",
            "activation_34 (Activation)   (None, 10)                0         \n",
            "=================================================================\n",
            "Total params: 1,250,858\n",
            "Trainable params: 1,250,858\n",
            "Non-trainable params: 0\n",
            "_________________________________________________________________\n",
            "Train on 50000 samples, validate on 10000 samples\n",
            "Epoch 1/100\n",
            " 3712/50000 [=>............................] - ETA: 31s - loss: 2.2634 - acc: 0.1449"
          ],
          "name": "stdout"
        },
        {
          "output_type": "stream",
          "text": [
            "50000/50000 [==============================] - 29s 572us/step - loss: 1.8138 - acc: 0.3399 - val_loss: 1.6522 - val_acc: 0.4061\n",
            "Epoch 2/100\n",
            "28672/50000 [================>.............] - ETA: 11s - loss: 1.5736 - acc: 0.4309"
          ],
          "name": "stdout"
        },
        {
          "output_type": "stream",
          "text": [
            "50000/50000 [==============================] - 28s 556us/step - loss: 1.5318 - acc: 0.4459 - val_loss: 1.4156 - val_acc: 0.4931\n",
            "Epoch 3/100\n",
            "38720/50000 [======================>.......] - ETA: 5s - loss: 1.4047 - acc: 0.4934"
          ],
          "name": "stdout"
        },
        {
          "output_type": "stream",
          "text": [
            "50000/50000 [==============================] - 28s 557us/step - loss: 1.3917 - acc: 0.4991 - val_loss: 1.3252 - val_acc: 0.5308\n",
            "Epoch 4/100\n",
            "42816/50000 [========================>.....] - ETA: 3s - loss: 1.2959 - acc: 0.5348"
          ],
          "name": "stdout"
        },
        {
          "output_type": "stream",
          "text": [
            "50000/50000 [==============================] - 28s 555us/step - loss: 1.2938 - acc: 0.5368 - val_loss: 1.1950 - val_acc: 0.5763\n",
            "Epoch 5/100\n",
            "44160/50000 [=========================>....] - ETA: 3s - loss: 1.2091 - acc: 0.5707"
          ],
          "name": "stdout"
        },
        {
          "output_type": "stream",
          "text": [
            "50000/50000 [==============================] - 28s 555us/step - loss: 1.2074 - acc: 0.5714 - val_loss: 1.0941 - val_acc: 0.6127\n",
            "Epoch 6/100\n",
            "43776/50000 [=========================>....] - ETA: 3s - loss: 1.1402 - acc: 0.5971"
          ],
          "name": "stdout"
        },
        {
          "output_type": "stream",
          "text": [
            "50000/50000 [==============================] - 28s 558us/step - loss: 1.1371 - acc: 0.5985 - val_loss: 1.0383 - val_acc: 0.6357\n",
            "Epoch 7/100\n",
            "44480/50000 [=========================>....] - ETA: 2s - loss: 1.0786 - acc: 0.6210"
          ],
          "name": "stdout"
        },
        {
          "output_type": "stream",
          "text": [
            "50000/50000 [==============================] - 28s 555us/step - loss: 1.0758 - acc: 0.6226 - val_loss: 1.0021 - val_acc: 0.6471\n",
            "Epoch 8/100\n",
            "44960/50000 [=========================>....] - ETA: 2s - loss: 1.0271 - acc: 0.6385"
          ],
          "name": "stdout"
        },
        {
          "output_type": "stream",
          "text": [
            "50000/50000 [==============================] - 28s 556us/step - loss: 1.0253 - acc: 0.6384 - val_loss: 0.9589 - val_acc: 0.6656\n",
            "Epoch 9/100\n",
            "44768/50000 [=========================>....] - ETA: 2s - loss: 0.9868 - acc: 0.6546"
          ],
          "name": "stdout"
        },
        {
          "output_type": "stream",
          "text": [
            "50000/50000 [==============================] - 28s 557us/step - loss: 0.9836 - acc: 0.6564 - val_loss: 0.8939 - val_acc: 0.6874\n",
            "Epoch 10/100\n",
            "44160/50000 [=========================>....] - ETA: 3s - loss: 0.9451 - acc: 0.6727"
          ],
          "name": "stdout"
        },
        {
          "output_type": "stream",
          "text": [
            "50000/50000 [==============================] - 28s 556us/step - loss: 0.9444 - acc: 0.6731 - val_loss: 0.8915 - val_acc: 0.6897\n",
            "Epoch 11/100\n",
            "44896/50000 [=========================>....] - ETA: 2s - loss: 0.9131 - acc: 0.6826"
          ],
          "name": "stdout"
        },
        {
          "output_type": "stream",
          "text": [
            "50000/50000 [==============================] - 28s 554us/step - loss: 0.9111 - acc: 0.6833 - val_loss: 0.8527 - val_acc: 0.7089\n",
            "Epoch 12/100\n",
            "44224/50000 [=========================>....] - ETA: 3s - loss: 0.8814 - acc: 0.6936"
          ],
          "name": "stdout"
        },
        {
          "output_type": "stream",
          "text": [
            "50000/50000 [==============================] - 28s 556us/step - loss: 0.8816 - acc: 0.6939 - val_loss: 0.8302 - val_acc: 0.7115\n",
            "Epoch 13/100\n",
            "45216/50000 [==========================>...] - ETA: 2s - loss: 0.8584 - acc: 0.7021"
          ],
          "name": "stdout"
        },
        {
          "output_type": "stream",
          "text": [
            "50000/50000 [==============================] - 28s 553us/step - loss: 0.8580 - acc: 0.7024 - val_loss: 0.8181 - val_acc: 0.7158\n",
            "Epoch 14/100\n",
            "46176/50000 [==========================>...] - ETA: 1s - loss: 0.8343 - acc: 0.7106"
          ],
          "name": "stdout"
        },
        {
          "output_type": "stream",
          "text": [
            "50000/50000 [==============================] - 28s 551us/step - loss: 0.8351 - acc: 0.7101 - val_loss: 0.7965 - val_acc: 0.7244\n",
            "Epoch 15/100\n",
            "45408/50000 [==========================>...] - ETA: 2s - loss: 0.8173 - acc: 0.7164"
          ],
          "name": "stdout"
        },
        {
          "output_type": "stream",
          "text": [
            "50000/50000 [==============================] - 28s 554us/step - loss: 0.8181 - acc: 0.7157 - val_loss: 0.7953 - val_acc: 0.7265\n",
            "Epoch 16/100\n",
            "45696/50000 [==========================>...] - ETA: 2s - loss: 0.7991 - acc: 0.7237"
          ],
          "name": "stdout"
        },
        {
          "output_type": "stream",
          "text": [
            "50000/50000 [==============================] - 28s 552us/step - loss: 0.8009 - acc: 0.7229 - val_loss: 0.7889 - val_acc: 0.7294\n",
            "Epoch 17/100\n",
            "44864/50000 [=========================>....] - ETA: 2s - loss: 0.7839 - acc: 0.7292"
          ],
          "name": "stdout"
        },
        {
          "output_type": "stream",
          "text": [
            "50000/50000 [==============================] - 28s 556us/step - loss: 0.7830 - acc: 0.7300 - val_loss: 0.7760 - val_acc: 0.7334\n",
            "Epoch 18/100\n",
            "43872/50000 [=========================>....] - ETA: 3s - loss: 0.7672 - acc: 0.7359"
          ],
          "name": "stdout"
        },
        {
          "output_type": "stream",
          "text": [
            "50000/50000 [==============================] - 28s 559us/step - loss: 0.7674 - acc: 0.7353 - val_loss: 0.7624 - val_acc: 0.7327\n",
            "Epoch 19/100\n",
            "44544/50000 [=========================>....] - ETA: 2s - loss: 0.7569 - acc: 0.7381"
          ],
          "name": "stdout"
        },
        {
          "output_type": "stream",
          "text": [
            "50000/50000 [==============================] - 28s 555us/step - loss: 0.7579 - acc: 0.7380 - val_loss: 0.7815 - val_acc: 0.7282\n",
            "Epoch 20/100\n",
            "45376/50000 [==========================>...] - ETA: 2s - loss: 0.7443 - acc: 0.7424"
          ],
          "name": "stdout"
        },
        {
          "output_type": "stream",
          "text": [
            "50000/50000 [==============================] - 28s 555us/step - loss: 0.7464 - acc: 0.7418 - val_loss: 0.7422 - val_acc: 0.7477\n",
            "Epoch 21/100\n",
            "45280/50000 [==========================>...] - ETA: 2s - loss: 0.7365 - acc: 0.7464"
          ],
          "name": "stdout"
        },
        {
          "output_type": "stream",
          "text": [
            "50000/50000 [==============================] - 28s 554us/step - loss: 0.7373 - acc: 0.7467 - val_loss: 0.7315 - val_acc: 0.7480\n",
            "Epoch 22/100\n",
            "44576/50000 [=========================>....] - ETA: 2s - loss: 0.7231 - acc: 0.7486"
          ],
          "name": "stdout"
        },
        {
          "output_type": "stream",
          "text": [
            "50000/50000 [==============================] - 28s 556us/step - loss: 0.7241 - acc: 0.7480 - val_loss: 0.7409 - val_acc: 0.7426\n",
            "Epoch 23/100\n",
            "43072/50000 [========================>.....] - ETA: 3s - loss: 0.7166 - acc: 0.7527"
          ],
          "name": "stdout"
        },
        {
          "output_type": "stream",
          "text": [
            "50000/50000 [==============================] - 28s 559us/step - loss: 0.7166 - acc: 0.7534 - val_loss: 0.7255 - val_acc: 0.7522\n",
            "Epoch 24/100\n",
            "43456/50000 [=========================>....] - ETA: 3s - loss: 0.7077 - acc: 0.7586"
          ],
          "name": "stdout"
        },
        {
          "output_type": "stream",
          "text": [
            "50000/50000 [==============================] - 28s 557us/step - loss: 0.7095 - acc: 0.7581 - val_loss: 0.7060 - val_acc: 0.7606\n",
            "Epoch 25/100\n",
            "44096/50000 [=========================>....] - ETA: 3s - loss: 0.7017 - acc: 0.7599"
          ],
          "name": "stdout"
        },
        {
          "output_type": "stream",
          "text": [
            "50000/50000 [==============================] - 28s 556us/step - loss: 0.7021 - acc: 0.7601 - val_loss: 0.7125 - val_acc: 0.7618\n",
            "Epoch 26/100\n",
            "44608/50000 [=========================>....] - ETA: 2s - loss: 0.6952 - acc: 0.7634"
          ],
          "name": "stdout"
        },
        {
          "output_type": "stream",
          "text": [
            "50000/50000 [==============================] - 28s 557us/step - loss: 0.6967 - acc: 0.7633 - val_loss: 0.6930 - val_acc: 0.7635\n",
            "Epoch 27/100\n",
            "44416/50000 [=========================>....] - ETA: 2s - loss: 0.6961 - acc: 0.7623"
          ],
          "name": "stdout"
        },
        {
          "output_type": "stream",
          "text": [
            "50000/50000 [==============================] - 28s 555us/step - loss: 0.6956 - acc: 0.7626 - val_loss: 0.7116 - val_acc: 0.7609\n",
            "Epoch 28/100\n",
            "44224/50000 [=========================>....] - ETA: 3s - loss: 0.6878 - acc: 0.7643"
          ],
          "name": "stdout"
        },
        {
          "output_type": "stream",
          "text": [
            "50000/50000 [==============================] - 28s 557us/step - loss: 0.6865 - acc: 0.7654 - val_loss: 0.6959 - val_acc: 0.7637\n",
            "Epoch 29/100\n",
            "45504/50000 [==========================>...] - ETA: 2s - loss: 0.6829 - acc: 0.7684"
          ],
          "name": "stdout"
        },
        {
          "output_type": "stream",
          "text": [
            "50000/50000 [==============================] - 28s 553us/step - loss: 0.6830 - acc: 0.7684 - val_loss: 0.7162 - val_acc: 0.7603\n",
            "Epoch 30/100\n",
            "44480/50000 [=========================>....] - ETA: 2s - loss: 0.6802 - acc: 0.7700"
          ],
          "name": "stdout"
        },
        {
          "output_type": "stream",
          "text": [
            "50000/50000 [==============================] - 28s 557us/step - loss: 0.6817 - acc: 0.7692 - val_loss: 0.7043 - val_acc: 0.7725\n",
            "Epoch 31/100\n",
            "47264/50000 [===========================>..] - ETA: 1s - loss: 0.6767 - acc: 0.7704"
          ],
          "name": "stdout"
        },
        {
          "output_type": "stream",
          "text": [
            "50000/50000 [==============================] - 27s 543us/step - loss: 0.6759 - acc: 0.7708 - val_loss: 0.6965 - val_acc: 0.7636\n",
            "Epoch 32/100\n",
            "49376/50000 [============================>.] - ETA: 0s - loss: 0.6754 - acc: 0.7718"
          ],
          "name": "stdout"
        },
        {
          "output_type": "stream",
          "text": [
            "50000/50000 [==============================] - 27s 542us/step - loss: 0.6752 - acc: 0.7718 - val_loss: 0.6763 - val_acc: 0.7722\n",
            "Epoch 33/100\n",
            "49088/50000 [============================>.] - ETA: 0s - loss: 0.6707 - acc: 0.7750"
          ],
          "name": "stdout"
        },
        {
          "output_type": "stream",
          "text": [
            "50000/50000 [==============================] - 27s 545us/step - loss: 0.6710 - acc: 0.7749 - val_loss: 0.6691 - val_acc: 0.7704\n",
            "Epoch 34/100\n",
            "49568/50000 [============================>.] - ETA: 0s - loss: 0.6689 - acc: 0.7753"
          ],
          "name": "stdout"
        },
        {
          "output_type": "stream",
          "text": [
            "50000/50000 [==============================] - 27s 543us/step - loss: 0.6687 - acc: 0.7754 - val_loss: 0.6844 - val_acc: 0.7687\n",
            "Epoch 35/100\n",
            "49280/50000 [============================>.] - ETA: 0s - loss: 0.6660 - acc: 0.7736"
          ],
          "name": "stdout"
        },
        {
          "output_type": "stream",
          "text": [
            "50000/50000 [==============================] - 27s 544us/step - loss: 0.6655 - acc: 0.7738 - val_loss: 0.6724 - val_acc: 0.7743\n",
            "Epoch 36/100\n",
            "49984/50000 [============================>.] - ETA: 0s - loss: 0.6599 - acc: 0.7765"
          ],
          "name": "stdout"
        },
        {
          "output_type": "stream",
          "text": [
            "50000/50000 [==============================] - 27s 542us/step - loss: 0.6599 - acc: 0.7766 - val_loss: 0.6541 - val_acc: 0.7814\n",
            "Epoch 37/100\n",
            "48224/50000 [===========================>..] - ETA: 0s - loss: 0.6614 - acc: 0.7774"
          ],
          "name": "stdout"
        },
        {
          "output_type": "stream",
          "text": [
            "50000/50000 [==============================] - 27s 548us/step - loss: 0.6621 - acc: 0.7775 - val_loss: 0.6928 - val_acc: 0.7632\n",
            "Epoch 38/100\n",
            "48672/50000 [============================>.] - ETA: 0s - loss: 0.6628 - acc: 0.7764"
          ],
          "name": "stdout"
        },
        {
          "output_type": "stream",
          "text": [
            "50000/50000 [==============================] - 27s 545us/step - loss: 0.6636 - acc: 0.7763 - val_loss: 0.6859 - val_acc: 0.7736\n",
            "Epoch 39/100\n",
            "48832/50000 [============================>.] - ETA: 0s - loss: 0.6523 - acc: 0.7820"
          ],
          "name": "stdout"
        },
        {
          "output_type": "stream",
          "text": [
            "50000/50000 [==============================] - 27s 546us/step - loss: 0.6526 - acc: 0.7817 - val_loss: 0.6845 - val_acc: 0.7725\n",
            "Epoch 40/100\n",
            "48000/50000 [===========================>..] - ETA: 1s - loss: 0.6565 - acc: 0.7794"
          ],
          "name": "stdout"
        },
        {
          "output_type": "stream",
          "text": [
            "50000/50000 [==============================] - 27s 549us/step - loss: 0.6574 - acc: 0.7792 - val_loss: 0.7146 - val_acc: 0.7719\n",
            "Epoch 41/100\n",
            "46400/50000 [==========================>...] - ETA: 1s - loss: 0.6541 - acc: 0.7814"
          ],
          "name": "stdout"
        },
        {
          "output_type": "stream",
          "text": [
            "50000/50000 [==============================] - 28s 554us/step - loss: 0.6541 - acc: 0.7814 - val_loss: 0.6779 - val_acc: 0.7739\n",
            "Epoch 42/100\n",
            "46432/50000 [==========================>...] - ETA: 1s - loss: 0.6581 - acc: 0.7810"
          ],
          "name": "stdout"
        },
        {
          "output_type": "stream",
          "text": [
            "50000/50000 [==============================] - 28s 551us/step - loss: 0.6571 - acc: 0.7806 - val_loss: 0.6625 - val_acc: 0.7760\n",
            "Epoch 43/100\n",
            "45856/50000 [==========================>...] - ETA: 2s - loss: 0.6527 - acc: 0.7822"
          ],
          "name": "stdout"
        },
        {
          "output_type": "stream",
          "text": [
            "50000/50000 [==============================] - 28s 554us/step - loss: 0.6513 - acc: 0.7824 - val_loss: 0.6669 - val_acc: 0.7785\n",
            "Epoch 44/100\n",
            "46208/50000 [==========================>...] - ETA: 1s - loss: 0.6513 - acc: 0.7835"
          ],
          "name": "stdout"
        },
        {
          "output_type": "stream",
          "text": [
            "50000/50000 [==============================] - 28s 550us/step - loss: 0.6506 - acc: 0.7833 - val_loss: 0.6590 - val_acc: 0.7763\n",
            "Epoch 45/100\n",
            "47104/50000 [===========================>..] - ETA: 1s - loss: 0.6468 - acc: 0.7829"
          ],
          "name": "stdout"
        },
        {
          "output_type": "stream",
          "text": [
            "50000/50000 [==============================] - 27s 549us/step - loss: 0.6454 - acc: 0.7833 - val_loss: 0.6405 - val_acc: 0.7866\n",
            "Epoch 46/100\n",
            "46656/50000 [==========================>...] - ETA: 1s - loss: 0.6414 - acc: 0.7856"
          ],
          "name": "stdout"
        },
        {
          "output_type": "stream",
          "text": [
            "50000/50000 [==============================] - 28s 551us/step - loss: 0.6439 - acc: 0.7845 - val_loss: 0.7333 - val_acc: 0.7508\n",
            "Epoch 47/100\n",
            "47168/50000 [===========================>..] - ETA: 1s - loss: 0.6459 - acc: 0.7859"
          ],
          "name": "stdout"
        },
        {
          "output_type": "stream",
          "text": [
            "50000/50000 [==============================] - 27s 549us/step - loss: 0.6471 - acc: 0.7847 - val_loss: 0.6518 - val_acc: 0.7788\n",
            "Epoch 48/100\n",
            "47936/50000 [===========================>..] - ETA: 1s - loss: 0.6444 - acc: 0.7865"
          ],
          "name": "stdout"
        },
        {
          "output_type": "stream",
          "text": [
            "50000/50000 [==============================] - 27s 547us/step - loss: 0.6436 - acc: 0.7867 - val_loss: 0.6534 - val_acc: 0.7797\n",
            "Epoch 49/100\n",
            "47456/50000 [===========================>..] - ETA: 1s - loss: 0.6337 - acc: 0.7896"
          ],
          "name": "stdout"
        },
        {
          "output_type": "stream",
          "text": [
            "50000/50000 [==============================] - 27s 548us/step - loss: 0.6349 - acc: 0.7892 - val_loss: 0.6839 - val_acc: 0.7743\n",
            "Epoch 50/100\n",
            "47136/50000 [===========================>..] - ETA: 1s - loss: 0.6306 - acc: 0.7902"
          ],
          "name": "stdout"
        },
        {
          "output_type": "stream",
          "text": [
            "50000/50000 [==============================] - 28s 551us/step - loss: 0.6328 - acc: 0.7902 - val_loss: 0.7139 - val_acc: 0.7714\n",
            "Epoch 51/100\n",
            "47168/50000 [===========================>..] - ETA: 1s - loss: 0.6364 - acc: 0.7863"
          ],
          "name": "stdout"
        },
        {
          "output_type": "stream",
          "text": [
            "50000/50000 [==============================] - 27s 550us/step - loss: 0.6365 - acc: 0.7856 - val_loss: 0.6752 - val_acc: 0.7711\n",
            "Epoch 52/100\n",
            "47008/50000 [===========================>..] - ETA: 1s - loss: 0.6350 - acc: 0.7887"
          ],
          "name": "stdout"
        },
        {
          "output_type": "stream",
          "text": [
            "50000/50000 [==============================] - 27s 550us/step - loss: 0.6380 - acc: 0.7882 - val_loss: 0.6688 - val_acc: 0.7765\n",
            "Epoch 53/100\n",
            "47552/50000 [===========================>..] - ETA: 1s - loss: 0.6361 - acc: 0.7895"
          ],
          "name": "stdout"
        },
        {
          "output_type": "stream",
          "text": [
            "50000/50000 [==============================] - 27s 549us/step - loss: 0.6368 - acc: 0.7895 - val_loss: 0.6451 - val_acc: 0.7860\n",
            "Epoch 54/100\n",
            "47008/50000 [===========================>..] - ETA: 1s - loss: 0.6370 - acc: 0.7907"
          ],
          "name": "stdout"
        },
        {
          "output_type": "stream",
          "text": [
            "50000/50000 [==============================] - 28s 551us/step - loss: 0.6374 - acc: 0.7908 - val_loss: 0.6659 - val_acc: 0.7757\n",
            "Epoch 55/100\n",
            "47680/50000 [===========================>..] - ETA: 1s - loss: 0.6341 - acc: 0.7887"
          ],
          "name": "stdout"
        },
        {
          "output_type": "stream",
          "text": [
            "50000/50000 [==============================] - 27s 548us/step - loss: 0.6350 - acc: 0.7885 - val_loss: 0.6868 - val_acc: 0.7737\n",
            "Epoch 56/100\n",
            "48256/50000 [===========================>..] - ETA: 0s - loss: 0.6366 - acc: 0.7884"
          ],
          "name": "stdout"
        },
        {
          "output_type": "stream",
          "text": [
            "50000/50000 [==============================] - 27s 547us/step - loss: 0.6375 - acc: 0.7880 - val_loss: 0.6480 - val_acc: 0.7902\n",
            "Epoch 57/100\n",
            "47456/50000 [===========================>..] - ETA: 1s - loss: 0.6294 - acc: 0.7928"
          ],
          "name": "stdout"
        },
        {
          "output_type": "stream",
          "text": [
            "50000/50000 [==============================] - 28s 550us/step - loss: 0.6293 - acc: 0.7928 - val_loss: 0.6429 - val_acc: 0.7913\n",
            "Epoch 58/100\n",
            "46656/50000 [==========================>...] - ETA: 1s - loss: 0.6267 - acc: 0.7910"
          ],
          "name": "stdout"
        },
        {
          "output_type": "stream",
          "text": [
            "50000/50000 [==============================] - 28s 551us/step - loss: 0.6256 - acc: 0.7914 - val_loss: 0.6753 - val_acc: 0.7780\n",
            "Epoch 59/100\n",
            "47104/50000 [===========================>..] - ETA: 1s - loss: 0.6326 - acc: 0.7905"
          ],
          "name": "stdout"
        },
        {
          "output_type": "stream",
          "text": [
            "50000/50000 [==============================] - 28s 550us/step - loss: 0.6319 - acc: 0.7908 - val_loss: 0.6970 - val_acc: 0.7704\n",
            "Epoch 60/100\n",
            "47328/50000 [===========================>..] - ETA: 1s - loss: 0.6329 - acc: 0.7906"
          ],
          "name": "stdout"
        },
        {
          "output_type": "stream",
          "text": [
            "50000/50000 [==============================] - 27s 549us/step - loss: 0.6324 - acc: 0.7910 - val_loss: 0.6356 - val_acc: 0.7896\n",
            "Epoch 61/100\n",
            "46880/50000 [===========================>..] - ETA: 1s - loss: 0.6332 - acc: 0.7885"
          ],
          "name": "stdout"
        },
        {
          "output_type": "stream",
          "text": [
            "50000/50000 [==============================] - 28s 553us/step - loss: 0.6338 - acc: 0.7887 - val_loss: 0.6980 - val_acc: 0.7717\n",
            "Epoch 62/100\n",
            "47232/50000 [===========================>..] - ETA: 1s - loss: 0.6302 - acc: 0.7933"
          ],
          "name": "stdout"
        },
        {
          "output_type": "stream",
          "text": [
            "50000/50000 [==============================] - 27s 549us/step - loss: 0.6308 - acc: 0.7932 - val_loss: 0.6648 - val_acc: 0.7853\n",
            "Epoch 63/100\n",
            "47776/50000 [===========================>..] - ETA: 1s - loss: 0.6269 - acc: 0.7910"
          ],
          "name": "stdout"
        },
        {
          "output_type": "stream",
          "text": [
            "50000/50000 [==============================] - 27s 547us/step - loss: 0.6282 - acc: 0.7908 - val_loss: 0.6460 - val_acc: 0.7795\n",
            "Epoch 64/100\n",
            "47104/50000 [===========================>..] - ETA: 1s - loss: 0.6256 - acc: 0.7921"
          ],
          "name": "stdout"
        },
        {
          "output_type": "stream",
          "text": [
            "50000/50000 [==============================] - 27s 550us/step - loss: 0.6268 - acc: 0.7923 - val_loss: 0.6567 - val_acc: 0.7855\n",
            "Epoch 65/100\n",
            "48320/50000 [===========================>..] - ETA: 0s - loss: 0.6267 - acc: 0.7925"
          ],
          "name": "stdout"
        },
        {
          "output_type": "stream",
          "text": [
            "50000/50000 [==============================] - 27s 547us/step - loss: 0.6282 - acc: 0.7920 - val_loss: 0.6448 - val_acc: 0.7844\n",
            "Epoch 66/100\n",
            "47488/50000 [===========================>..] - ETA: 1s - loss: 0.6291 - acc: 0.7943"
          ],
          "name": "stdout"
        },
        {
          "output_type": "stream",
          "text": [
            "50000/50000 [==============================] - 27s 550us/step - loss: 0.6306 - acc: 0.7939 - val_loss: 0.6525 - val_acc: 0.7790\n",
            "Epoch 67/100\n",
            "47808/50000 [===========================>..] - ETA: 1s - loss: 0.6329 - acc: 0.7889"
          ],
          "name": "stdout"
        },
        {
          "output_type": "stream",
          "text": [
            "50000/50000 [==============================] - 27s 546us/step - loss: 0.6342 - acc: 0.7887 - val_loss: 0.6342 - val_acc: 0.7885\n",
            "Epoch 68/100\n",
            "48800/50000 [============================>.] - ETA: 0s - loss: 0.6281 - acc: 0.7924"
          ],
          "name": "stdout"
        },
        {
          "output_type": "stream",
          "text": [
            "50000/50000 [==============================] - 27s 545us/step - loss: 0.6285 - acc: 0.7921 - val_loss: 0.7230 - val_acc: 0.7641\n",
            "Epoch 69/100\n",
            "48544/50000 [============================>.] - ETA: 0s - loss: 0.6274 - acc: 0.7917"
          ],
          "name": "stdout"
        },
        {
          "output_type": "stream",
          "text": [
            "50000/50000 [==============================] - 27s 547us/step - loss: 0.6275 - acc: 0.7918 - val_loss: 0.6870 - val_acc: 0.7756\n",
            "Epoch 70/100\n",
            "47872/50000 [===========================>..] - ETA: 1s - loss: 0.6296 - acc: 0.7930"
          ],
          "name": "stdout"
        },
        {
          "output_type": "stream",
          "text": [
            "50000/50000 [==============================] - 27s 549us/step - loss: 0.6285 - acc: 0.7934 - val_loss: 0.6712 - val_acc: 0.7879\n",
            "Epoch 71/100\n",
            "47680/50000 [===========================>..] - ETA: 1s - loss: 0.6286 - acc: 0.7931"
          ],
          "name": "stdout"
        },
        {
          "output_type": "stream",
          "text": [
            "50000/50000 [==============================] - 27s 549us/step - loss: 0.6277 - acc: 0.7931 - val_loss: 0.6624 - val_acc: 0.7863\n",
            "Epoch 72/100\n",
            "47168/50000 [===========================>..] - ETA: 1s - loss: 0.6306 - acc: 0.7911"
          ],
          "name": "stdout"
        },
        {
          "output_type": "stream",
          "text": [
            "50000/50000 [==============================] - 27s 549us/step - loss: 0.6314 - acc: 0.7907 - val_loss: 0.7892 - val_acc: 0.7474\n",
            "Epoch 73/100\n",
            "49568/50000 [============================>.] - ETA: 0s - loss: 0.6272 - acc: 0.7950"
          ],
          "name": "stdout"
        },
        {
          "output_type": "stream",
          "text": [
            "50000/50000 [==============================] - 27s 541us/step - loss: 0.6272 - acc: 0.7947 - val_loss: 0.6719 - val_acc: 0.7826\n",
            "Epoch 74/100\n",
            "50000/50000 [==============================] - 27s 539us/step - loss: 0.6277 - acc: 0.7924 - val_loss: 0.6312 - val_acc: 0.7880\n",
            "Epoch 75/100\n",
            "  576/50000 [..............................] - ETA: 26s - loss: 0.6281 - acc: 0.7969"
          ],
          "name": "stdout"
        },
        {
          "output_type": "stream",
          "text": [
            "50000/50000 [==============================] - 27s 541us/step - loss: 0.6281 - acc: 0.7940 - val_loss: 0.6599 - val_acc: 0.7841\n",
            "Epoch 76/100\n",
            "31840/50000 [==================>...........] - ETA: 9s - loss: 0.6251 - acc: 0.7953"
          ],
          "name": "stdout"
        },
        {
          "output_type": "stream",
          "text": [
            "50000/50000 [==============================] - 27s 543us/step - loss: 0.6252 - acc: 0.7942 - val_loss: 0.7263 - val_acc: 0.7758\n",
            "Epoch 77/100\n",
            "43296/50000 [========================>.....] - ETA: 3s - loss: 0.6280 - acc: 0.7925"
          ],
          "name": "stdout"
        },
        {
          "output_type": "stream",
          "text": [
            "50000/50000 [==============================] - 27s 542us/step - loss: 0.6280 - acc: 0.7926 - val_loss: 0.6809 - val_acc: 0.7796\n",
            "Epoch 78/100\n",
            "47776/50000 [===========================>..] - ETA: 1s - loss: 0.6318 - acc: 0.7917"
          ],
          "name": "stdout"
        },
        {
          "output_type": "stream",
          "text": [
            "50000/50000 [==============================] - 27s 540us/step - loss: 0.6322 - acc: 0.7919 - val_loss: 0.6665 - val_acc: 0.7816\n",
            "Epoch 79/100\n",
            "50000/50000 [==============================] - 27s 536us/step - loss: 0.6263 - acc: 0.7930 - val_loss: 0.6816 - val_acc: 0.7881\n",
            "Epoch 80/100\n",
            "  512/50000 [..............................] - ETA: 24s - loss: 0.6172 - acc: 0.7754"
          ],
          "name": "stdout"
        },
        {
          "output_type": "stream",
          "text": [
            "50000/50000 [==============================] - 27s 539us/step - loss: 0.6327 - acc: 0.7908 - val_loss: 0.7021 - val_acc: 0.7728\n",
            "Epoch 81/100\n",
            "32096/50000 [==================>...........] - ETA: 9s - loss: 0.6339 - acc: 0.7903"
          ],
          "name": "stdout"
        },
        {
          "output_type": "stream",
          "text": [
            "50000/50000 [==============================] - 27s 540us/step - loss: 0.6339 - acc: 0.7905 - val_loss: 0.6605 - val_acc: 0.7854\n",
            "Epoch 82/100\n",
            "45504/50000 [==========================>...] - ETA: 2s - loss: 0.6325 - acc: 0.7902"
          ],
          "name": "stdout"
        },
        {
          "output_type": "stream",
          "text": [
            "50000/50000 [==============================] - 27s 532us/step - loss: 0.6324 - acc: 0.7902 - val_loss: 0.8028 - val_acc: 0.7719\n",
            "Epoch 83/100\n",
            "50000/50000 [==============================] - 27s 534us/step - loss: 0.6322 - acc: 0.7930 - val_loss: 0.7383 - val_acc: 0.7606\n",
            "Epoch 84/100\n",
            "  160/50000 [..............................] - ETA: 25s - loss: 0.6959 - acc: 0.7750"
          ],
          "name": "stdout"
        },
        {
          "output_type": "stream",
          "text": [
            "50000/50000 [==============================] - 27s 530us/step - loss: 0.6316 - acc: 0.7919 - val_loss: 0.6600 - val_acc: 0.7873\n",
            "Epoch 85/100\n",
            "34592/50000 [===================>..........] - ETA: 7s - loss: 0.6377 - acc: 0.7905"
          ],
          "name": "stdout"
        },
        {
          "output_type": "stream",
          "text": [
            "50000/50000 [==============================] - 27s 531us/step - loss: 0.6349 - acc: 0.7912 - val_loss: 0.7365 - val_acc: 0.7682\n",
            "Epoch 86/100\n",
            "45984/50000 [==========================>...] - ETA: 2s - loss: 0.6427 - acc: 0.7901"
          ],
          "name": "stdout"
        },
        {
          "output_type": "stream",
          "text": [
            "50000/50000 [==============================] - 27s 537us/step - loss: 0.6430 - acc: 0.7902 - val_loss: 0.6695 - val_acc: 0.7905\n",
            "Epoch 87/100\n",
            "49056/50000 [============================>.] - ETA: 0s - loss: 0.6340 - acc: 0.7923"
          ],
          "name": "stdout"
        },
        {
          "output_type": "stream",
          "text": [
            "50000/50000 [==============================] - 27s 540us/step - loss: 0.6342 - acc: 0.7920 - val_loss: 0.6595 - val_acc: 0.7841\n",
            "Epoch 88/100\n",
            "50000/50000 [==============================] - 27s 538us/step - loss: 0.6382 - acc: 0.7912 - val_loss: 0.7162 - val_acc: 0.7796\n",
            "Epoch 89/100\n",
            "  160/50000 [..............................] - ETA: 25s - loss: 0.7343 - acc: 0.7562"
          ],
          "name": "stdout"
        },
        {
          "output_type": "stream",
          "text": [
            "50000/50000 [==============================] - 27s 540us/step - loss: 0.6315 - acc: 0.7902 - val_loss: 0.6514 - val_acc: 0.7878\n",
            "Epoch 90/100\n",
            "32128/50000 [==================>...........] - ETA: 9s - loss: 0.6363 - acc: 0.7930"
          ],
          "name": "stdout"
        },
        {
          "output_type": "stream",
          "text": [
            "50000/50000 [==============================] - 27s 542us/step - loss: 0.6367 - acc: 0.7915 - val_loss: 0.7148 - val_acc: 0.7648\n",
            "Epoch 91/100\n",
            "43616/50000 [=========================>....] - ETA: 3s - loss: 0.6397 - acc: 0.7899"
          ],
          "name": "stdout"
        },
        {
          "output_type": "stream",
          "text": [
            "50000/50000 [==============================] - 27s 543us/step - loss: 0.6396 - acc: 0.7895 - val_loss: 0.7878 - val_acc: 0.7627\n",
            "Epoch 92/100\n",
            "49152/50000 [============================>.] - ETA: 0s - loss: 0.6403 - acc: 0.7897"
          ],
          "name": "stdout"
        },
        {
          "output_type": "stream",
          "text": [
            "50000/50000 [==============================] - 27s 536us/step - loss: 0.6395 - acc: 0.7900 - val_loss: 0.7595 - val_acc: 0.7485\n",
            "Epoch 93/100\n",
            "50000/50000 [==============================] - 27s 536us/step - loss: 0.6397 - acc: 0.7895 - val_loss: 0.7336 - val_acc: 0.7575\n",
            "Epoch 94/100\n",
            "  768/50000 [..............................] - ETA: 25s - loss: 0.6261 - acc: 0.7982"
          ],
          "name": "stdout"
        },
        {
          "output_type": "stream",
          "text": [
            "50000/50000 [==============================] - 27s 536us/step - loss: 0.6411 - acc: 0.7895 - val_loss: 0.6446 - val_acc: 0.7897\n",
            "Epoch 95/100\n",
            "33024/50000 [==================>...........] - ETA: 8s - loss: 0.6472 - acc: 0.7881"
          ],
          "name": "stdout"
        },
        {
          "output_type": "stream",
          "text": [
            "50000/50000 [==============================] - 27s 538us/step - loss: 0.6439 - acc: 0.7882 - val_loss: 0.6527 - val_acc: 0.7878\n",
            "Epoch 96/100\n",
            "46144/50000 [==========================>...] - ETA: 1s - loss: 0.6406 - acc: 0.7906"
          ],
          "name": "stdout"
        },
        {
          "output_type": "stream",
          "text": [
            "50000/50000 [==============================] - 27s 535us/step - loss: 0.6407 - acc: 0.7903 - val_loss: 0.6571 - val_acc: 0.7869\n",
            "Epoch 97/100\n",
            "50000/50000 [==============================] - 27s 538us/step - loss: 0.6423 - acc: 0.7896 - val_loss: 0.7309 - val_acc: 0.7660\n",
            "Epoch 98/100\n",
            "  160/50000 [..............................] - ETA: 26s - loss: 0.6397 - acc: 0.7812"
          ],
          "name": "stdout"
        },
        {
          "output_type": "stream",
          "text": [
            "50000/50000 [==============================] - 27s 534us/step - loss: 0.6472 - acc: 0.7885 - val_loss: 0.6430 - val_acc: 0.7959\n",
            "Epoch 99/100\n",
            "33888/50000 [===================>..........] - ETA: 8s - loss: 0.6439 - acc: 0.7887"
          ],
          "name": "stdout"
        },
        {
          "output_type": "stream",
          "text": [
            "50000/50000 [==============================] - 27s 536us/step - loss: 0.6452 - acc: 0.7892 - val_loss: 0.7520 - val_acc: 0.7639\n",
            "Epoch 100/100\n",
            "46368/50000 [==========================>...] - ETA: 1s - loss: 0.6520 - acc: 0.7884"
          ],
          "name": "stdout"
        },
        {
          "output_type": "stream",
          "text": [
            "50000/50000 [==============================] - 27s 533us/step - loss: 0.6507 - acc: 0.7880 - val_loss: 0.7161 - val_acc: 0.7723\n"
          ],
          "name": "stdout"
        }
      ]
    },
    {
      "metadata": {
        "id": "6UMuBWS7ZuRC",
        "colab_type": "code",
        "colab": {
          "base_uri": "https://localhost:8080/",
          "height": 476
        },
        "outputId": "2f63e70b-5c7c-40ae-d305-5a4f420f33f6"
      },
      "cell_type": "code",
      "source": [
        " \n",
        "sequential_model_to_ascii_printout(cnn_n)"
      ],
      "execution_count": 39,
      "outputs": [
        {
          "output_type": "stream",
          "text": [
            "           OPERATION           DATA DIMENSIONS   WEIGHTS(N)   WEIGHTS(%)\n",
            "\n",
            "               Input   #####      3   32   32\n",
            "              Conv2D    \\|/  -------------------       896     0.1%\n",
            "                relu   #####     32   32   32\n",
            "              Conv2D    \\|/  -------------------      9248     0.7%\n",
            "                relu   #####     32   30   30\n",
            "        MaxPooling2D   Y max -------------------         0     0.0%\n",
            "                       #####     32   15   15\n",
            "             Dropout    | || -------------------         0     0.0%\n",
            "                       #####     32   15   15\n",
            "              Conv2D    \\|/  -------------------     18496     1.5%\n",
            "                relu   #####     64   15   15\n",
            "              Conv2D    \\|/  -------------------     36928     3.0%\n",
            "                relu   #####     64   13   13\n",
            "        MaxPooling2D   Y max -------------------         0     0.0%\n",
            "                       #####     64    6    6\n",
            "             Dropout    | || -------------------         0     0.0%\n",
            "                       #####     64    6    6\n",
            "             Flatten   ||||| -------------------         0     0.0%\n",
            "                       #####        2304\n",
            "               Dense   XXXXX -------------------   1180160    94.3%\n",
            "                relu   #####         512\n",
            "             Dropout    | || -------------------         0     0.0%\n",
            "                       #####         512\n",
            "               Dense   XXXXX -------------------      5130     0.4%\n",
            "             softmax   #####          10\n"
          ],
          "name": "stdout"
        }
      ]
    },
    {
      "metadata": {
        "id": "0Q5hCzZxaFOo",
        "colab_type": "code",
        "colab": {}
      },
      "cell_type": "code",
      "source": [
        ""
      ],
      "execution_count": 0,
      "outputs": []
    }
  ]
}